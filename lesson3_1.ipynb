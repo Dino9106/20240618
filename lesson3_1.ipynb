{
 "cells": [
  {
   "cell_type": "code",
   "execution_count": 1,
   "metadata": {},
   "outputs": [
    {
     "data": {
      "text/plain": [
       "15"
      ]
     },
     "execution_count": 1,
     "metadata": {},
     "output_type": "execute_result"
    }
   ],
   "source": [
    "n = 5\n",
    "m = 10\n",
    "total = n + m\n",
    "total"
   ]
  },
  {
   "cell_type": "code",
   "execution_count": 1,
   "metadata": {},
   "outputs": [
    {
     "data": {
      "text/plain": [
       "500"
      ]
     },
     "execution_count": 1,
     "metadata": {},
     "output_type": "execute_result"
    }
   ],
   "source": [
    "# 使用input()，請自行輸入值\n",
    "n=int(input(\"請輸入n的值\"))\n",
    "m=int(input(\"請輸入m的值\"))\n",
    "total = n + m\n",
    "total"
   ]
  },
  {
   "cell_type": "code",
   "execution_count": 6,
   "metadata": {},
   "outputs": [
    {
     "name": "stdout",
     "output_type": "stream",
     "text": [
      "757.333 + 5 = 762.333\n"
     ]
    }
   ],
   "source": [
    "# 使用eval()，可以自動轉換字串\n",
    "n=eval(input(\"請輸入n的值\"))\n",
    "m=eval(input(\"請輸入m的值\"))\n",
    "total = n + m\n",
    "print( n , \"+\" , m , \"=\"  , total )"
   ]
  },
  {
   "cell_type": "code",
   "execution_count": 4,
   "metadata": {},
   "outputs": [
    {
     "name": "stdout",
     "output_type": "stream",
     "text": [
      "10 20 40.222\n"
     ]
    }
   ],
   "source": [
    "#print()沒有限制引數值\n",
    "print( 10 , '20' , 40.222 )"
   ]
  },
  {
   "cell_type": "code",
   "execution_count": 14,
   "metadata": {},
   "outputs": [
    {
     "name": "stdout",
     "output_type": "stream",
     "text": [
      "10.258+20.546654564156=30.805\n"
     ]
    }
   ],
   "source": [
    "# 使用eval()，可以自動轉換字串\n",
    "n=eval(input(\"請輸入n的值\"))\n",
    "m=eval(input(\"請輸入m的值\"))\n",
    "total = n + m\n",
    "#字串差補為f需要配合用上\"\"與{}框住變數\n",
    "#給予限制小數點後幾位可以加上:.{數字}f\n",
    "print(f\"{n}+{m}={total:.3f}\")"
   ]
  }
 ],
 "metadata": {
  "kernelspec": {
   "display_name": "Python 3",
   "language": "python",
   "name": "python3"
  },
  "language_info": {
   "codemirror_mode": {
    "name": "ipython",
    "version": 3
   },
   "file_extension": ".py",
   "mimetype": "text/x-python",
   "name": "python",
   "nbconvert_exporter": "python",
   "pygments_lexer": "ipython3",
   "version": "3.10.14"
  }
 },
 "nbformat": 4,
 "nbformat_minor": 2
}
