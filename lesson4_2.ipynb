{
 "cells": [
  {
   "cell_type": "code",
   "execution_count": 2,
   "metadata": {},
   "outputs": [
    {
     "name": "stdout",
     "output_type": "stream",
     "text": [
      "Hello! World!\n"
     ]
    }
   ],
   "source": [
    "print(\"Hello! World!\")"
   ]
  },
  {
   "cell_type": "code",
   "execution_count": 1,
   "metadata": {},
   "outputs": [
    {
     "name": "stdout",
     "output_type": "stream",
     "text": [
      "請是true的區域\n",
      "大於18\n",
      "程式結束\n"
     ]
    }
   ],
   "source": [
    "#if的單向選擇\n",
    "\n",
    "a = 21\n",
    "if a > 18:\n",
    "    print(\"請是true的區域\")\n",
    "    print(\"大於18\")\n",
    "print(\"程式結束\")"
   ]
  },
  {
   "cell_type": "code",
   "execution_count": 2,
   "metadata": {},
   "outputs": [
    {
     "name": "stdout",
     "output_type": "stream",
     "text": [
      "程式結束\n"
     ]
    }
   ],
   "source": [
    "a = 17\n",
    "if a > 18:\n",
    "    print(\"請是true的區域\")\n",
    "    print(\"大於18\")\n",
    "print(\"程式結束\")"
   ]
  },
  {
   "cell_type": "code",
   "execution_count": 5,
   "metadata": {},
   "outputs": [
    {
     "name": "stdout",
     "output_type": "stream",
     "text": [
      "你已成年\n",
      "你的年齡是18\n"
     ]
    }
   ],
   "source": [
    "#雙向選擇 a = 年齡\n",
    "a = eval(input(\"請輸入年齡\"))\n",
    "#需要注意if 與 else的應用\n",
    "if a >= 18 :\n",
    "    print(\"你已成年\")\n",
    "else :\n",
    "    print(\"你未成年\")\n",
    "print(f\"你的年齡是{a}\")"
   ]
  },
  {
   "cell_type": "code",
   "execution_count": 11,
   "metadata": {},
   "outputs": [
    {
     "name": "stdout",
     "output_type": "stream",
     "text": [
      "學生成績是271\n",
      "學生成績是271\n",
      "學生成績是271\n"
     ]
    }
   ],
   "source": [
    "#學生的總分是300\n",
    "#有些學生可以加分5%\n",
    "#a = 學生  b = 老師 \n",
    "\n",
    "a = int(input(\"請輸入學生成績\"))\n",
    "b = input(\"學生是否可以加分 y , n\")\n",
    "\n",
    "if(b == \"y\"):\n",
    "    a *=1.05\n",
    "#附加條件如int，round 都需要再{}內\n",
    "#第一行與第三行都會自行四捨五入\n",
    "#直接轉純值會把最後一位刪除\n",
    "#round是四捨五入函數\n",
    "print(f\"學生成績是{a:.0f}\")\n",
    "print(f\"學生成績是{int(a)}\")\n",
    "print(f\"學生成績是{round(a)}\")"
   ]
  },
  {
   "cell_type": "code",
   "execution_count": null,
   "metadata": {},
   "outputs": [],
   "source": []
  }
 ],
 "metadata": {
  "kernelspec": {
   "display_name": "Python 3",
   "language": "python",
   "name": "python3"
  },
  "language_info": {
   "codemirror_mode": {
    "name": "ipython",
    "version": 3
   },
   "file_extension": ".py",
   "mimetype": "text/x-python",
   "name": "python",
   "nbconvert_exporter": "python",
   "pygments_lexer": "ipython3",
   "version": "3.10.14"
  }
 },
 "nbformat": 4,
 "nbformat_minor": 2
}
