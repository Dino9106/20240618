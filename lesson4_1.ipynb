{
 "cells": [
  {
   "cell_type": "code",
   "execution_count": 2,
   "metadata": {},
   "outputs": [
    {
     "data": {
      "text/plain": [
       "7.0"
      ]
     },
     "execution_count": 2,
     "metadata": {},
     "output_type": "execute_result"
    }
   ],
   "source": [
    "# 0 , 5 ,9 ,14\n",
    "a = 0\n",
    "a += 5\n",
    "a += 9\n",
    "a += 14\n",
    "\n",
    "a / 4 "
   ]
  },
  {
   "cell_type": "code",
   "execution_count": 4,
   "metadata": {},
   "outputs": [
    {
     "data": {
      "text/plain": [
       "7.0"
      ]
     },
     "execution_count": 4,
     "metadata": {},
     "output_type": "execute_result"
    }
   ],
   "source": [
    "# 5 , 6 , 8 , 9\n",
    "b = 0\n",
    "b += 5\n",
    "b += 6\n",
    "b += 8\n",
    "b += 9\n",
    "\n",
    "b / 4"
   ]
  },
  {
   "cell_type": "code",
   "execution_count": 6,
   "metadata": {},
   "outputs": [
    {
     "name": "stdout",
     "output_type": "stream",
     "text": [
      "[0,5,9,14]的平均值7\n",
      "[0,5,9,14]的標準差5.94418483337567\n",
      "[5,6,8,9]的平均值7\n",
      "[5,6,8,9]的標準差1.8257418583505538\n"
     ]
    }
   ],
   "source": [
    "#import呼叫函式 statistics 函式 \n",
    "import statistics\n",
    "#statistics mean 平均值\n",
    "#statistics stdev 標準差\n",
    "a = statistics.mean([0,5,9,14])\n",
    "b = statistics.stdev([0,5,9,14])\n",
    "print(f\"[0,5,9,14]的平均值{a}\")\n",
    "print(f\"[0,5,9,14]的標準差{b}\")\n",
    "\n",
    "c = statistics.mean([5,6,8,9])\n",
    "d = statistics.stdev([5,6,8,9])\n",
    "print(f\"[5,6,8,9]的平均值{c}\")\n",
    "print(f\"[5,6,8,9]的標準差{d}\")"
   ]
  },
  {
   "cell_type": "code",
   "execution_count": 7,
   "metadata": {},
   "outputs": [
    {
     "data": {
      "text/plain": [
       "False"
      ]
     },
     "execution_count": 7,
     "metadata": {},
     "output_type": "execute_result"
    }
   ],
   "source": [
    "#比較運算值對或錯\n",
    "3 > 5"
   ]
  },
  {
   "cell_type": "code",
   "execution_count": 8,
   "metadata": {},
   "outputs": [
    {
     "data": {
      "text/plain": [
       "True"
      ]
     },
     "execution_count": 8,
     "metadata": {},
     "output_type": "execute_result"
    }
   ],
   "source": [
    "3 < 5"
   ]
  },
  {
   "cell_type": "code",
   "execution_count": 9,
   "metadata": {},
   "outputs": [
    {
     "data": {
      "text/plain": [
       "True"
      ]
     },
     "execution_count": 9,
     "metadata": {},
     "output_type": "execute_result"
    }
   ],
   "source": [
    "5 == 5"
   ]
  },
  {
   "cell_type": "code",
   "execution_count": 1,
   "metadata": {},
   "outputs": [
    {
     "data": {
      "text/plain": [
       "False"
      ]
     },
     "execution_count": 1,
     "metadata": {},
     "output_type": "execute_result"
    }
   ],
   "source": [
    "5 != 5"
   ]
  }
 ],
 "metadata": {
  "kernelspec": {
   "display_name": "Python 3",
   "language": "python",
   "name": "python3"
  },
  "language_info": {
   "codemirror_mode": {
    "name": "ipython",
    "version": 3
   },
   "file_extension": ".py",
   "mimetype": "text/x-python",
   "name": "python",
   "nbconvert_exporter": "python",
   "pygments_lexer": "ipython3",
   "version": "3.10.14"
  }
 },
 "nbformat": 4,
 "nbformat_minor": 2
}
