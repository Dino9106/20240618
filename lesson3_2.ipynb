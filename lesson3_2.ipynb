{
 "cells": [
  {
   "cell_type": "code",
   "execution_count": 1,
   "metadata": {},
   "outputs": [
    {
     "data": {
      "text/plain": [
       "5"
      ]
     },
     "execution_count": 1,
     "metadata": {},
     "output_type": "execute_result"
    }
   ],
   "source": [
    "n = 5\n",
    "n + 5\n",
    "n"
   ]
  },
  {
   "cell_type": "code",
   "execution_count": 3,
   "metadata": {},
   "outputs": [
    {
     "data": {
      "text/plain": [
       "10"
      ]
     },
     "execution_count": 3,
     "metadata": {},
     "output_type": "execute_result"
    }
   ],
   "source": [
    "n=5\n",
    "n=n+5\n",
    "n"
   ]
  },
  {
   "cell_type": "code",
   "execution_count": 8,
   "metadata": {},
   "outputs": [
    {
     "name": "stdout",
     "output_type": "stream",
     "text": [
      "三個數相加總合60.77\n"
     ]
    }
   ],
   "source": [
    "#total與value都為變數代稱\n",
    "total = 0\n",
    "value =eval(input(\"輸入第一個數值:\"))\n",
    "total = value + total\n",
    "#eval將字串變成整數或是浮點數\n",
    "value =eval(input(\"輸入第二個數值:\"))\n",
    "total = value + total\n",
    "\n",
    "value =eval(input(\"輸入第三個數值:\"))\n",
    "total = value + total\n",
    "#要在print輸出時顯示總結變數需要使用上f{}\n",
    "#也可以加上:.{數字}f\n",
    "print(f\"三個數相加總合{total:.2f}\")"
   ]
  },
  {
   "cell_type": "code",
   "execution_count": 13,
   "metadata": {},
   "outputs": [
    {
     "name": "stdout",
     "output_type": "stream",
     "text": [
      "三個數相加總合24.00\n"
     ]
    }
   ],
   "source": [
    "#延伸複合指定運算值+=\n",
    "total = 0\n",
    "value =eval(input(\"輸入第一個數值:\"))\n",
    "total += value\n",
    "#+=加上總結\n",
    "#total=totla+value簡寫\n",
    "value =eval(input(\"輸入第二個數值:\"))\n",
    "total += value\n",
    "\n",
    "value =eval(input(\"輸入第三個數值:\"))\n",
    "total += value\n",
    "\n",
    "print(f\"三個數相加總合{total:.2f}\")"
   ]
  }
 ],
 "metadata": {
  "kernelspec": {
   "display_name": "Python 3",
   "language": "python",
   "name": "python3"
  },
  "language_info": {
   "codemirror_mode": {
    "name": "ipython",
    "version": 3
   },
   "file_extension": ".py",
   "mimetype": "text/x-python",
   "name": "python",
   "nbconvert_exporter": "python",
   "pygments_lexer": "ipython3",
   "version": "3.10.14"
  }
 },
 "nbformat": 4,
 "nbformat_minor": 2
}
